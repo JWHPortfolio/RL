{
 "cells": [
  {
   "cell_type": "code",
   "execution_count": 1,
   "metadata": {
    "executionInfo": {
     "elapsed": 20,
     "status": "ok",
     "timestamp": 1690327051696,
     "user": {
      "displayName": "John Hebeler",
      "userId": "00255102143439611405"
     },
     "user_tz": 240
    },
    "id": "S7KdcWXc6iSe",
    "tags": []
   },
   "outputs": [],
   "source": [
    "class Field:\n",
    "    def __init__(self, size, item_pickup, item_dropoff, start_position):\n",
    "        self.size = size\n",
    "        self.item_pickup = item_pickup\n",
    "        self.item_dropoff = item_dropoff\n",
    "        self.position = start_position\n",
    "        self.item_in_car = False\n",
    "\n",
    "    def get_number_of_states(self):\n",
    "        return self.size*self.size*self.size*self.size*2\n",
    "\n",
    "\n",
    "    def get_state(self):\n",
    "        state = self.position[0]*self.size*self.size*self.size*2\n",
    "        state = state + self.position[1]*self.size*self.size*2\n",
    "        state = state + self.item_pickup[0]*self.size*2\n",
    "        state = state + self.item_pickup[1]*2\n",
    "\n",
    "        if self.item_in_car:\n",
    "            state = state + 1\n",
    "        return state\n",
    "\n",
    "    def make_action(self, action):\n",
    "        (x,y) = self.position\n",
    "        if action == 0: #down\n",
    "            if y == self.size-1:\n",
    "                return -10, False\n",
    "            else:\n",
    "                self.position = (x, y+1)\n",
    "                return -1, False\n",
    "\n",
    "        elif action == 1: #up\n",
    "            if y == 0:\n",
    "                return -10, False\n",
    "            else:\n",
    "                self.position = (x, y-1)\n",
    "                return -1, False\n",
    "\n",
    "        elif action == 2: #left\n",
    "            if x == 0:\n",
    "                return -10, False\n",
    "            else:\n",
    "                self.position = (x-1, y)\n",
    "                return -1, False\n",
    "\n",
    "        elif action == 3: #right\n",
    "            if x == self.size-1:\n",
    "                return -10, False\n",
    "            else:\n",
    "                self.position = (x+1, y)\n",
    "                return -1, False\n",
    "\n",
    "        elif action == 4: # pickup\n",
    "            if self.item_in_car:\n",
    "                return -10, False\n",
    "            elif self.item_pickup != (x,y):\n",
    "                return -10, False\n",
    "            else:\n",
    "                self.item_in_car = True\n",
    "                return 20, False\n",
    "\n",
    "        elif action == 5: #dropoff\n",
    "            if not self.item_in_car:\n",
    "                return -10, False\n",
    "            elif self.item_dropoff != (x,y):\n",
    "                self.item_pickup = (x,y)\n",
    "                self.item_in_car = False\n",
    "                return -10, False\n",
    "            else:\n",
    "                self.item_in_car = False\n",
    "                return 20, True"
   ]
  },
  {
   "cell_type": "code",
   "execution_count": 2,
   "metadata": {
    "executionInfo": {
     "elapsed": 307,
     "status": "ok",
     "timestamp": 1690327116790,
     "user": {
      "displayName": "John Hebeler",
      "userId": "00255102143439611405"
     },
     "user_tz": 240
    },
    "id": "EMg6n5AR6iSh",
    "tags": []
   },
   "outputs": [],
   "source": [
    "size = 10\n",
    "item_pickup = (0,0)\n",
    "item_dropoff = (9,9)\n",
    "start_position = (9,0)\n",
    "\n",
    "field = Field(size, item_pickup, item_dropoff, start_position)"
   ]
  },
  {
   "cell_type": "code",
   "execution_count": 3,
   "metadata": {
    "colab": {
     "base_uri": "https://localhost:8080/"
    },
    "executionInfo": {
     "elapsed": 667,
     "status": "ok",
     "timestamp": 1690327124885,
     "user": {
      "displayName": "John Hebeler",
      "userId": "00255102143439611405"
     },
     "user_tz": 240
    },
    "id": "ylWjv0XJ6iSh",
    "outputId": "7882e1a7-ced5-4352-e08e-83e5a3841fb3",
    "tags": []
   },
   "outputs": [
    {
     "data": {
      "text/plain": [
       "(9, 0)"
      ]
     },
     "execution_count": 3,
     "metadata": {},
     "output_type": "execute_result"
    }
   ],
   "source": [
    "field.position"
   ]
  },
  {
   "cell_type": "markdown",
   "metadata": {},
   "source": [
    "## Lets hand code the perfect solution - 29 steps"
   ]
  },
  {
   "cell_type": "code",
   "execution_count": 4,
   "metadata": {
    "colab": {
     "base_uri": "https://localhost:8080/"
    },
    "executionInfo": {
     "elapsed": 274,
     "status": "ok",
     "timestamp": 1690327126529,
     "user": {
      "displayName": "John Hebeler",
      "userId": "00255102143439611405"
     },
     "user_tz": 240
    },
    "id": "qdL1p1OA6iSi",
    "outputId": "64efc9be-1c6b-4460-c8d0-18e737ae784d",
    "tags": []
   },
   "outputs": [
    {
     "data": {
      "text/plain": [
       "(20, True)"
      ]
     },
     "execution_count": 4,
     "metadata": {},
     "output_type": "execute_result"
    }
   ],
   "source": [
    "field.make_action(2)\n",
    "field.make_action(2)\n",
    "field.make_action(2)\n",
    "field.make_action(2)\n",
    "field.make_action(2)\n",
    "field.make_action(2)\n",
    "field.make_action(2)\n",
    "field.make_action(2)\n",
    "field.make_action(2)\n",
    "\n",
    "field.make_action(4)\n",
    "\n",
    "field.make_action(0)\n",
    "field.make_action(0)\n",
    "field.make_action(0)\n",
    "field.make_action(0)\n",
    "field.make_action(0)\n",
    "field.make_action(0)\n",
    "field.make_action(0)\n",
    "field.make_action(0)\n",
    "field.make_action(0)\n",
    "\n",
    "field.make_action(3)\n",
    "field.make_action(3)\n",
    "field.make_action(3)\n",
    "field.make_action(3)\n",
    "field.make_action(3)\n",
    "field.make_action(3)\n",
    "field.make_action(3)\n",
    "field.make_action(3)\n",
    "field.make_action(3)\n",
    "\n",
    "field.make_action(5)"
   ]
  },
  {
   "cell_type": "code",
   "execution_count": 5,
   "metadata": {
    "executionInfo": {
     "elapsed": 257,
     "status": "ok",
     "timestamp": 1690327166024,
     "user": {
      "displayName": "John Hebeler",
      "userId": "00255102143439611405"
     },
     "user_tz": 240
    },
    "id": "l0GMJOPu6iSj",
    "tags": []
   },
   "outputs": [],
   "source": [
    "import random"
   ]
  },
  {
   "cell_type": "code",
   "execution_count": 6,
   "metadata": {
    "executionInfo": {
     "elapsed": 23,
     "status": "ok",
     "timestamp": 1690327167579,
     "user": {
      "displayName": "John Hebeler",
      "userId": "00255102143439611405"
     },
     "user_tz": 240
    },
    "id": "XxrO_vpZ6iSj",
    "tags": []
   },
   "outputs": [],
   "source": [
    "# Random Solution\n",
    "def random_solution():\n",
    "    size = 10\n",
    "    item_pickup = (0,0)\n",
    "    item_dropoff = (9,9)\n",
    "    start_position = (9,0)\n",
    "\n",
    "    field = Field(size, item_pickup, item_dropoff, start_position)\n",
    "\n",
    "    done = False\n",
    "    steps = 0\n",
    "\n",
    "    while not done:\n",
    "        action = random.randint(0,5)\n",
    "        reward, done = field.make_action(action)\n",
    "        steps = steps + 1\n",
    "\n",
    "    return steps\n"
   ]
  },
  {
   "cell_type": "code",
   "execution_count": 7,
   "metadata": {
    "colab": {
     "base_uri": "https://localhost:8080/"
    },
    "executionInfo": {
     "elapsed": 1158,
     "status": "ok",
     "timestamp": 1690327171877,
     "user": {
      "displayName": "John Hebeler",
      "userId": "00255102143439611405"
     },
     "user_tz": 240
    },
    "id": "wE9zTacF6iSk",
    "outputId": "6e2b5b52-4192-45b0-88a9-b1cee0254318",
    "tags": []
   },
   "outputs": [
    {
     "data": {
      "text/plain": [
       "36249"
      ]
     },
     "execution_count": 7,
     "metadata": {},
     "output_type": "execute_result"
    }
   ],
   "source": [
    "random_solution()"
   ]
  },
  {
   "cell_type": "code",
   "execution_count": 8,
   "metadata": {
    "executionInfo": {
     "elapsed": 21223,
     "status": "ok",
     "timestamp": 1690327211794,
     "user": {
      "displayName": "John Hebeler",
      "userId": "00255102143439611405"
     },
     "user_tz": 240
    },
    "id": "zl-um7fT6iSk",
    "tags": []
   },
   "outputs": [],
   "source": [
    "run = [random_solution() for _ in range(100)]"
   ]
  },
  {
   "cell_type": "code",
   "execution_count": 9,
   "metadata": {
    "colab": {
     "base_uri": "https://localhost:8080/"
    },
    "executionInfo": {
     "elapsed": 335,
     "status": "ok",
     "timestamp": 1690327223552,
     "user": {
      "displayName": "John Hebeler",
      "userId": "00255102143439611405"
     },
     "user_tz": 240
    },
    "id": "GnQ_tVyf6iSk",
    "outputId": "b35bf54f-65f9-4899-b293-369a2491ebf3",
    "tags": []
   },
   "outputs": [
    {
     "data": {
      "text/plain": [
       "150745.73"
      ]
     },
     "execution_count": 9,
     "metadata": {},
     "output_type": "execute_result"
    }
   ],
   "source": [
    "sum(run)/len(run)"
   ]
  },
  {
   "cell_type": "code",
   "execution_count": 10,
   "metadata": {
    "executionInfo": {
     "elapsed": 265,
     "status": "ok",
     "timestamp": 1690327237832,
     "user": {
      "displayName": "John Hebeler",
      "userId": "00255102143439611405"
     },
     "user_tz": 240
    },
    "id": "dzMoQgKb6iSl",
    "tags": []
   },
   "outputs": [],
   "source": [
    "# Q-Learning Algo\n",
    "import numpy as np"
   ]
  },
  {
   "cell_type": "markdown",
   "metadata": {
    "id": "TLXAlHaYG5jN"
   },
   "source": [
    "![DropGameQTable.jpeg](data:image/jpeg;base64,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)"
   ]
  },
  {
   "cell_type": "code",
   "execution_count": 18,
   "metadata": {
    "executionInfo": {
     "elapsed": 12301,
     "status": "ok",
     "timestamp": 1690327428550,
     "user": {
      "displayName": "John Hebeler",
      "userId": "00255102143439611405"
     },
     "user_tz": 240
    },
    "id": "kvr93wPD6iSl",
    "tags": []
   },
   "outputs": [],
   "source": [
    "size = 10\n",
    "item_pickup = (0,0)\n",
    "item_dropoff = (9,9)\n",
    "start_position = (9,0)\n",
    "\n",
    "field = Field(size, item_pickup, item_dropoff, start_position)\n",
    "\n",
    "number_of_states = field.get_number_of_states()\n",
    "number_of_actions = 6\n",
    "\n",
    "q_table = np.zeros((number_of_states, number_of_actions))\n",
    "\n",
    "epsilon = 0.1\n",
    "alpha = 0.1\n",
    "gamma = 0.6\n",
    "\n",
    "for _ in range(10000):\n",
    "    field = Field(size, item_pickup, item_dropoff, start_position)\n",
    "    done = False\n",
    "\n",
    "    while not done:\n",
    "        state = field.get_state()\n",
    "        if random.uniform(0,1) < epsilon:\n",
    "            action = random.randint(0,5) #Explore\n",
    "        else:\n",
    "            action = np.argmax(q_table[state]) #Exploit\n",
    "\n",
    "        reward, done = field.make_action(action)\n",
    "\n",
    "        new_state = field.get_state()\n",
    "        new_state_max = np.max(q_table[new_state])\n",
    "\n",
    "        q_table[state, action] = (1-alpha)*q_table[state, action]+alpha*(reward+gamma*new_state_max - q_table[state, action])\n"
   ]
  },
  {
   "cell_type": "code",
   "execution_count": 23,
   "metadata": {
    "executionInfo": {
     "elapsed": 540,
     "status": "ok",
     "timestamp": 1690327476328,
     "user": {
      "displayName": "John Hebeler",
      "userId": "00255102143439611405"
     },
     "user_tz": 240
    },
    "id": "2_h55PJ56iSl",
    "tags": []
   },
   "outputs": [],
   "source": [
    "def reinforcement_solution():\n",
    "    epsilon = 0 #0.1  NOTE SETTING T0 0 if we have completed our learning for this is just a waste\n",
    "    alpha = 0.1\n",
    "    gamma = 0.6\n",
    "\n",
    "    field = Field(size, item_pickup, item_dropoff, start_position)\n",
    "    done = False\n",
    "    steps = 0\n",
    "\n",
    "    while not done:\n",
    "        state = field.get_state()\n",
    "        if random.uniform(0,1) < epsilon:\n",
    "            action = random.randint(0,5) #Explore\n",
    "        else:\n",
    "            action = np.argmax(q_table[state]) #Exploit\n",
    "\n",
    "        reward, done = field.make_action(action)\n",
    "\n",
    "        new_state = field.get_state()\n",
    "        new_state_max = np.max(q_table[new_state])\n",
    "\n",
    "        q_table[state, action] = (1-alpha)*q_table[state, action]+alpha*(reward+gamma*new_state_max - q_table[state, action])\n",
    "\n",
    "        steps = steps +1\n",
    "\n",
    "    return steps"
   ]
  },
  {
   "cell_type": "code",
   "execution_count": 24,
   "metadata": {
    "colab": {
     "base_uri": "https://localhost:8080/"
    },
    "executionInfo": {
     "elapsed": 609,
     "status": "ok",
     "timestamp": 1690327480377,
     "user": {
      "displayName": "John Hebeler",
      "userId": "00255102143439611405"
     },
     "user_tz": 240
    },
    "id": "2Tz1kQzM6iSl",
    "outputId": "50fd254b-393c-41c2-be4a-815ca25ac073",
    "tags": []
   },
   "outputs": [
    {
     "data": {
      "text/plain": [
       "29"
      ]
     },
     "execution_count": 24,
     "metadata": {},
     "output_type": "execute_result"
    }
   ],
   "source": [
    "reinforcement_solution()"
   ]
  },
  {
   "cell_type": "code",
   "execution_count": 25,
   "metadata": {
    "executionInfo": {
     "elapsed": 572,
     "status": "ok",
     "timestamp": 1690327492500,
     "user": {
      "displayName": "John Hebeler",
      "userId": "00255102143439611405"
     },
     "user_tz": 240
    },
    "id": "vQm7ZYxi6iSm",
    "tags": []
   },
   "outputs": [],
   "source": [
    "run = [reinforcement_solution() for _ in range(100)]"
   ]
  },
  {
   "cell_type": "code",
   "execution_count": 26,
   "metadata": {
    "colab": {
     "base_uri": "https://localhost:8080/"
    },
    "executionInfo": {
     "elapsed": 4,
     "status": "ok",
     "timestamp": 1690327493937,
     "user": {
      "displayName": "John Hebeler",
      "userId": "00255102143439611405"
     },
     "user_tz": 240
    },
    "id": "bst0Dk9O6iSm",
    "outputId": "72c0df6d-fe2e-4300-9d15-e315df7ba823",
    "tags": []
   },
   "outputs": [
    {
     "data": {
      "text/plain": [
       "29.0"
      ]
     },
     "execution_count": 26,
     "metadata": {},
     "output_type": "execute_result"
    }
   ],
   "source": [
    "sum(run)/len(run)"
   ]
  }
 ],
 "metadata": {
  "accelerator": "GPU",
  "colab": {
   "gpuType": "T4",
   "provenance": []
  },
  "kernelspec": {
   "display_name": "Python 3 (ipykernel)",
   "language": "python",
   "name": "python3"
  },
  "language_info": {
   "codemirror_mode": {
    "name": "ipython",
    "version": 3
   },
   "file_extension": ".py",
   "mimetype": "text/x-python",
   "name": "python",
   "nbconvert_exporter": "python",
   "pygments_lexer": "ipython3",
   "version": "3.10.6"
  }
 },
 "nbformat": 4,
 "nbformat_minor": 4
}
