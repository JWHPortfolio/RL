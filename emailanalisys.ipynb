{
 "cells": [
  {
   "cell_type": "code",
   "execution_count": 5,
   "id": "9a4fc6e6-58cc-43c6-b383-4f3d0cb68984",
   "metadata": {},
   "outputs": [],
   "source": [
    "import pandas as pd\n",
    "import numpy as np"
   ]
  },
  {
   "cell_type": "code",
   "execution_count": 6,
   "id": "96d2d5aa-a596-45cf-900f-b23331034f75",
   "metadata": {},
   "outputs": [
    {
     "data": {
      "text/html": [
       "<div>\n",
       "<style scoped>\n",
       "    .dataframe tbody tr th:only-of-type {\n",
       "        vertical-align: middle;\n",
       "    }\n",
       "\n",
       "    .dataframe tbody tr th {\n",
       "        vertical-align: top;\n",
       "    }\n",
       "\n",
       "    .dataframe thead th {\n",
       "        text-align: right;\n",
       "    }\n",
       "</style>\n",
       "<table border=\"1\" class=\"dataframe\">\n",
       "  <thead>\n",
       "    <tr style=\"text-align: right;\">\n",
       "      <th></th>\n",
       "      <th>Customer_ID</th>\n",
       "      <th>Gender</th>\n",
       "      <th>Type</th>\n",
       "      <th>Email_Address</th>\n",
       "      <th>Age</th>\n",
       "      <th>Tenure</th>\n",
       "    </tr>\n",
       "  </thead>\n",
       "  <tbody>\n",
       "    <tr>\n",
       "      <th>0</th>\n",
       "      <td>1</td>\n",
       "      <td>M</td>\n",
       "      <td>C</td>\n",
       "      <td>Mph@msn.com</td>\n",
       "      <td>38</td>\n",
       "      <td>12</td>\n",
       "    </tr>\n",
       "    <tr>\n",
       "      <th>1</th>\n",
       "      <td>2</td>\n",
       "      <td>F</td>\n",
       "      <td>B</td>\n",
       "      <td>SophcYN7381qMe8lRqK@aol.com</td>\n",
       "      <td>37</td>\n",
       "      <td>23</td>\n",
       "    </tr>\n",
       "    <tr>\n",
       "      <th>2</th>\n",
       "      <td>3</td>\n",
       "      <td>F</td>\n",
       "      <td>C</td>\n",
       "      <td>xE@msn.com</td>\n",
       "      <td>32</td>\n",
       "      <td>15</td>\n",
       "    </tr>\n",
       "    <tr>\n",
       "      <th>3</th>\n",
       "      <td>4</td>\n",
       "      <td>M</td>\n",
       "      <td>C</td>\n",
       "      <td>WduR0o0@comcast.net</td>\n",
       "      <td>31</td>\n",
       "      <td>24</td>\n",
       "    </tr>\n",
       "    <tr>\n",
       "      <th>4</th>\n",
       "      <td>5</td>\n",
       "      <td>M</td>\n",
       "      <td>C</td>\n",
       "      <td>walHI9cmWJIBKvy0@aol.com</td>\n",
       "      <td>35</td>\n",
       "      <td>13</td>\n",
       "    </tr>\n",
       "  </tbody>\n",
       "</table>\n",
       "</div>"
      ],
      "text/plain": [
       "   Customer_ID Gender Type                Email_Address  Age  Tenure\n",
       "0            1      M    C                  Mph@msn.com   38      12\n",
       "1            2      F    B  SophcYN7381qMe8lRqK@aol.com   37      23\n",
       "2            3      F    C                   xE@msn.com   32      15\n",
       "3            4      M    C          WduR0o0@comcast.net   31      24\n",
       "4            5      M    C     walHI9cmWJIBKvy0@aol.com   35      13"
      ]
     },
     "execution_count": 6,
     "metadata": {},
     "output_type": "execute_result"
    }
   ],
   "source": [
    "userdata  = pd.read_csv(\"data/userbase.csv\")\n",
    "userdata.head()"
   ]
  },
  {
   "cell_type": "code",
   "execution_count": 10,
   "id": "be208a56-f7e4-45c9-a2d3-5a009398ca5e",
   "metadata": {},
   "outputs": [
    {
     "name": "stdout",
     "output_type": "stream",
     "text": [
      "Type:  <class 'numpy.ndarray'>  Values:  [38 37 32 31 35 33 40 27 42 29 28 30 36 26 25 22 23 21 39 43 24 34 41 45\n",
      " 46 48 18 44 58 19 47 20 52 53 49 50 56 57 51 54 59 55 63 61 60 62]\n",
      "[18 19 20 21 22 23 24 25 26 27 28 29 30 31 32 33 34 35 36 37 38 39 40 41\n",
      " 42 43 44 45 46 47 48 49 50 51 52 53 54 55 56 57 58 59 60 61 62 63]\n"
     ]
    }
   ],
   "source": [
    "ages = userdata[\"Age\"].unique()\n",
    "print(\"Type: \", type(ages), \" Values: \",ages)\n",
    "agessort = np.sort(ages)\n",
    "print(agessort)"
   ]
  },
  {
   "cell_type": "code",
   "execution_count": 47,
   "id": "8a2a4737-fc03-463a-a7e9-b805ef694087",
   "metadata": {},
   "outputs": [
    {
     "data": {
      "text/html": [
       "<div>\n",
       "<style scoped>\n",
       "    .dataframe tbody tr th:only-of-type {\n",
       "        vertical-align: middle;\n",
       "    }\n",
       "\n",
       "    .dataframe tbody tr th {\n",
       "        vertical-align: top;\n",
       "    }\n",
       "\n",
       "    .dataframe thead th {\n",
       "        text-align: right;\n",
       "    }\n",
       "</style>\n",
       "<table border=\"1\" class=\"dataframe\">\n",
       "  <thead>\n",
       "    <tr style=\"text-align: right;\">\n",
       "      <th></th>\n",
       "      <th>Sent_Date</th>\n",
       "      <th>Customer_ID</th>\n",
       "      <th>SubjectLine_ID</th>\n",
       "    </tr>\n",
       "  </thead>\n",
       "  <tbody>\n",
       "    <tr>\n",
       "      <th>0</th>\n",
       "      <td>2016-01-28</td>\n",
       "      <td>1413</td>\n",
       "      <td>2</td>\n",
       "    </tr>\n",
       "    <tr>\n",
       "      <th>1</th>\n",
       "      <td>2016-03-02</td>\n",
       "      <td>83889</td>\n",
       "      <td>2</td>\n",
       "    </tr>\n",
       "    <tr>\n",
       "      <th>2</th>\n",
       "      <td>2016-03-09</td>\n",
       "      <td>457832</td>\n",
       "      <td>3</td>\n",
       "    </tr>\n",
       "    <tr>\n",
       "      <th>3</th>\n",
       "      <td>2016-01-20</td>\n",
       "      <td>127772</td>\n",
       "      <td>1</td>\n",
       "    </tr>\n",
       "    <tr>\n",
       "      <th>4</th>\n",
       "      <td>2016-02-03</td>\n",
       "      <td>192123</td>\n",
       "      <td>3</td>\n",
       "    </tr>\n",
       "  </tbody>\n",
       "</table>\n",
       "</div>"
      ],
      "text/plain": [
       "    Sent_Date  Customer_ID  SubjectLine_ID\n",
       "0  2016-01-28         1413               2\n",
       "1  2016-03-02        83889               2\n",
       "2  2016-03-09       457832               3\n",
       "3  2016-01-20       127772               1\n",
       "4  2016-02-03       192123               3"
      ]
     },
     "execution_count": 47,
     "metadata": {},
     "output_type": "execute_result"
    }
   ],
   "source": [
    "sent_emails = pd.read_csv(\"data/sent_emails.csv\")\n",
    "sent_emails.head()"
   ]
  },
  {
   "cell_type": "code",
   "execution_count": 13,
   "id": "3948754d-c354-4275-8805-8a828de3c1e1",
   "metadata": {},
   "outputs": [
    {
     "name": "stdout",
     "output_type": "stream",
     "text": [
      "[1 2 3]\n"
     ]
    }
   ],
   "source": [
    "subjects = sent_emails[\"SubjectLine_ID\"].unique()\n",
    "subjectssort = np.sort(subjects)\n",
    "print(subjectssort)"
   ]
  },
  {
   "cell_type": "code",
   "execution_count": 14,
   "id": "088d7ec4-d298-46ef-b379-307781a0f259",
   "metadata": {},
   "outputs": [
    {
     "name": "stdout",
     "output_type": "stream",
     "text": [
      "[ 0  1  2  3  4  5  6  7  8  9 10 11 12 13 14 15 16 17 18 19 20 21 22 23\n",
      " 24 25 26 27 28 29 30 31 32 33 34 35 36 38]\n"
     ]
    }
   ],
   "source": [
    "tenure = userdata[\"Tenure\"].unique()\n",
    "tenuresort = np.sort(tenure)\n",
    "print(tenuresort)"
   ]
  },
  {
   "cell_type": "code",
   "execution_count": 37,
   "id": "08c1abf7-43da-40e2-8e56-c5c6df27cd15",
   "metadata": {},
   "outputs": [
    {
     "data": {
      "text/html": [
       "<div>\n",
       "<style scoped>\n",
       "    .dataframe tbody tr th:only-of-type {\n",
       "        vertical-align: middle;\n",
       "    }\n",
       "\n",
       "    .dataframe tbody tr th {\n",
       "        vertical-align: top;\n",
       "    }\n",
       "\n",
       "    .dataframe thead th {\n",
       "        text-align: right;\n",
       "    }\n",
       "</style>\n",
       "<table border=\"1\" class=\"dataframe\">\n",
       "  <thead>\n",
       "    <tr style=\"text-align: right;\">\n",
       "      <th></th>\n",
       "      <th>Responded_Date</th>\n",
       "      <th>Customer_ID</th>\n",
       "      <th>SubjectLine_ID</th>\n",
       "    </tr>\n",
       "  </thead>\n",
       "  <tbody>\n",
       "    <tr>\n",
       "      <th>0</th>\n",
       "      <td>2016-01-25</td>\n",
       "      <td>217102</td>\n",
       "      <td>3</td>\n",
       "    </tr>\n",
       "    <tr>\n",
       "      <th>1</th>\n",
       "      <td>2016-03-26</td>\n",
       "      <td>366875</td>\n",
       "      <td>2</td>\n",
       "    </tr>\n",
       "    <tr>\n",
       "      <th>2</th>\n",
       "      <td>2016-03-17</td>\n",
       "      <td>201561</td>\n",
       "      <td>2</td>\n",
       "    </tr>\n",
       "    <tr>\n",
       "      <th>3</th>\n",
       "      <td>2016-01-11</td>\n",
       "      <td>395345</td>\n",
       "      <td>3</td>\n",
       "    </tr>\n",
       "    <tr>\n",
       "      <th>4</th>\n",
       "      <td>2016-01-11</td>\n",
       "      <td>427539</td>\n",
       "      <td>3</td>\n",
       "    </tr>\n",
       "  </tbody>\n",
       "</table>\n",
       "</div>"
      ],
      "text/plain": [
       "  Responded_Date  Customer_ID  SubjectLine_ID\n",
       "0     2016-01-25       217102               3\n",
       "1     2016-03-26       366875               2\n",
       "2     2016-03-17       201561               2\n",
       "3     2016-01-11       395345               3\n",
       "4     2016-01-11       427539               3"
      ]
     },
     "execution_count": 37,
     "metadata": {},
     "output_type": "execute_result"
    }
   ],
   "source": [
    "responses = pd.read_csv(\n",
    "    \"data/responded.csv\")\n",
    "responses.head()"
   ]
  },
  {
   "cell_type": "code",
   "execution_count": 34,
   "id": "2bb6f4c2-f6cb-4cea-8874-10f4d44fe4eb",
   "metadata": {},
   "outputs": [
    {
     "data": {
      "text/plain": [
       "378208"
      ]
     },
     "execution_count": 34,
     "metadata": {},
     "output_type": "execute_result"
    }
   ],
   "source": [
    "responses.describe()\n",
    "len(responses)"
   ]
  },
  {
   "cell_type": "code",
   "execution_count": 24,
   "id": "9f1c475d-a5a5-415e-8233-be50079df550",
   "metadata": {},
   "outputs": [
    {
     "data": {
      "text/plain": [
       "Sent_Date         object\n",
       "Customer_ID        int64\n",
       "SubjectLine_ID     int64\n",
       "dtype: object"
      ]
     },
     "execution_count": 24,
     "metadata": {},
     "output_type": "execute_result"
    }
   ],
   "source": [
    "sent_emails.dtypes"
   ]
  },
  {
   "cell_type": "code",
   "execution_count": 33,
   "id": "0328e768-a9c0-4ed0-8857-0dd5e90a8e4f",
   "metadata": {},
   "outputs": [
    {
     "name": "stdout",
     "output_type": "stream",
     "text": [
      "          Sent_Date  Customer_ID  SubjectLine_ID\n",
      "145055   2016-02-20       217102               3\n",
      "385578   2016-03-04       217102               3\n",
      "739358   2016-01-23       217102               3\n",
      "1255703  2016-02-09       217102               1\n",
      "2160442  2016-03-21       217102               1\n",
      "2256036  2016-01-03       217102               1\n"
     ]
    }
   ],
   "source": [
    "#found = sent_emails.query('Customer_ID == 217102 and SubjectLine_ID == 3 and Sent_Date == \"2016-01-25\" ', inplace=False)\n",
    "found = sent_emails.query('Customer_ID==217102', inplace=False)\n",
    "print(found)"
   ]
  },
  {
   "cell_type": "code",
   "execution_count": 36,
   "id": "35a5c6ec-5c61-4088-83b2-aa3ee8dc12e7",
   "metadata": {},
   "outputs": [
    {
     "name": "stdout",
     "output_type": "stream",
     "text": [
      "  Responded_Date  Customer_ID  SubjectLine_ID\n",
      "0     2016-01-25       217102               3\n"
     ]
    }
   ],
   "source": [
    "found = responses.query('Customer_ID==217102', inplace=False)\n",
    "print(found)"
   ]
  },
  {
   "cell_type": "code",
   "execution_count": 9,
   "id": "77fe8240-d9d8-4db0-bb3c-1e76752c8ad3",
   "metadata": {},
   "outputs": [],
   "source": [
    "def categorise(row):  \n",
    "    if row['Age'] >= 18 and row['Age'] <= 29:\n",
    "        val= 1\n",
    "    elif row['Age'] >= 30 and row['Age'] <= 39:\n",
    "        val = 2\n",
    "    elif row['Age'] >= 40  and row['Age'] <= 49:\n",
    "        val = 3\n",
    "    else:\n",
    "        val = 4\n",
    "    return val"
   ]
  },
  {
   "cell_type": "code",
   "execution_count": 10,
   "id": "7e6dd91a-4b5d-4554-9459-e449ee48cc27",
   "metadata": {},
   "outputs": [],
   "source": [
    "userdata['AgeCategory'] = userdata.apply(lambda row: categorise(row), axis=1)"
   ]
  },
  {
   "cell_type": "code",
   "execution_count": 11,
   "id": "00af0901-6fec-4d89-bfec-efc04a7d6eea",
   "metadata": {},
   "outputs": [
    {
     "data": {
      "text/html": [
       "<div>\n",
       "<style scoped>\n",
       "    .dataframe tbody tr th:only-of-type {\n",
       "        vertical-align: middle;\n",
       "    }\n",
       "\n",
       "    .dataframe tbody tr th {\n",
       "        vertical-align: top;\n",
       "    }\n",
       "\n",
       "    .dataframe thead th {\n",
       "        text-align: right;\n",
       "    }\n",
       "</style>\n",
       "<table border=\"1\" class=\"dataframe\">\n",
       "  <thead>\n",
       "    <tr style=\"text-align: right;\">\n",
       "      <th></th>\n",
       "      <th>Customer_ID</th>\n",
       "      <th>Gender</th>\n",
       "      <th>Type</th>\n",
       "      <th>Email_Address</th>\n",
       "      <th>Age</th>\n",
       "      <th>Tenure</th>\n",
       "      <th>AgeCategory</th>\n",
       "    </tr>\n",
       "  </thead>\n",
       "  <tbody>\n",
       "    <tr>\n",
       "      <th>0</th>\n",
       "      <td>1</td>\n",
       "      <td>M</td>\n",
       "      <td>C</td>\n",
       "      <td>Mph@msn.com</td>\n",
       "      <td>38</td>\n",
       "      <td>12</td>\n",
       "      <td>2</td>\n",
       "    </tr>\n",
       "    <tr>\n",
       "      <th>1</th>\n",
       "      <td>2</td>\n",
       "      <td>F</td>\n",
       "      <td>B</td>\n",
       "      <td>SophcYN7381qMe8lRqK@aol.com</td>\n",
       "      <td>37</td>\n",
       "      <td>23</td>\n",
       "      <td>2</td>\n",
       "    </tr>\n",
       "    <tr>\n",
       "      <th>2</th>\n",
       "      <td>3</td>\n",
       "      <td>F</td>\n",
       "      <td>C</td>\n",
       "      <td>xE@msn.com</td>\n",
       "      <td>32</td>\n",
       "      <td>15</td>\n",
       "      <td>2</td>\n",
       "    </tr>\n",
       "    <tr>\n",
       "      <th>3</th>\n",
       "      <td>4</td>\n",
       "      <td>M</td>\n",
       "      <td>C</td>\n",
       "      <td>WduR0o0@comcast.net</td>\n",
       "      <td>31</td>\n",
       "      <td>24</td>\n",
       "      <td>2</td>\n",
       "    </tr>\n",
       "    <tr>\n",
       "      <th>4</th>\n",
       "      <td>5</td>\n",
       "      <td>M</td>\n",
       "      <td>C</td>\n",
       "      <td>walHI9cmWJIBKvy0@aol.com</td>\n",
       "      <td>35</td>\n",
       "      <td>13</td>\n",
       "      <td>2</td>\n",
       "    </tr>\n",
       "  </tbody>\n",
       "</table>\n",
       "</div>"
      ],
      "text/plain": [
       "   Customer_ID Gender Type                Email_Address  Age  Tenure  \\\n",
       "0            1      M    C                  Mph@msn.com   38      12   \n",
       "1            2      F    B  SophcYN7381qMe8lRqK@aol.com   37      23   \n",
       "2            3      F    C                   xE@msn.com   32      15   \n",
       "3            4      M    C          WduR0o0@comcast.net   31      24   \n",
       "4            5      M    C     walHI9cmWJIBKvy0@aol.com   35      13   \n",
       "\n",
       "   AgeCategory  \n",
       "0            2  \n",
       "1            2  \n",
       "2            2  \n",
       "3            2  \n",
       "4            2  "
      ]
     },
     "execution_count": 11,
     "metadata": {},
     "output_type": "execute_result"
    }
   ],
   "source": [
    "userdata.head()"
   ]
  },
  {
   "cell_type": "code",
   "execution_count": 13,
   "id": "ea56e6f6-5781-4c73-95f2-7a0e3f70e8f5",
   "metadata": {},
   "outputs": [],
   "source": [
    "def categoriseTenure(row):  \n",
    "    if row['Tenure'] <10:\n",
    "        val= 1\n",
    "    elif row['Tenure'] >= 10 and row['Tenure'] <= 18:\n",
    "        val = 2\n",
    "    elif row['Tenure'] >= 19  and row['Tenure'] <= 28:\n",
    "        val = 3\n",
    "    else:\n",
    "        val = 4\n",
    "    return val"
   ]
  },
  {
   "cell_type": "code",
   "execution_count": 14,
   "id": "6ff45fb2-3f72-4da7-aa41-9e5c79832e43",
   "metadata": {},
   "outputs": [],
   "source": [
    "userdata['TenureCategory'] = userdata.apply(lambda row: categoriseTenure(row), axis=1)"
   ]
  },
  {
   "cell_type": "code",
   "execution_count": 15,
   "id": "da7af56e-3f3c-4073-8577-c0aef723a687",
   "metadata": {},
   "outputs": [
    {
     "data": {
      "text/html": [
       "<div>\n",
       "<style scoped>\n",
       "    .dataframe tbody tr th:only-of-type {\n",
       "        vertical-align: middle;\n",
       "    }\n",
       "\n",
       "    .dataframe tbody tr th {\n",
       "        vertical-align: top;\n",
       "    }\n",
       "\n",
       "    .dataframe thead th {\n",
       "        text-align: right;\n",
       "    }\n",
       "</style>\n",
       "<table border=\"1\" class=\"dataframe\">\n",
       "  <thead>\n",
       "    <tr style=\"text-align: right;\">\n",
       "      <th></th>\n",
       "      <th>Customer_ID</th>\n",
       "      <th>Gender</th>\n",
       "      <th>Type</th>\n",
       "      <th>Email_Address</th>\n",
       "      <th>Age</th>\n",
       "      <th>Tenure</th>\n",
       "      <th>AgeCategory</th>\n",
       "      <th>TenureCategory</th>\n",
       "    </tr>\n",
       "  </thead>\n",
       "  <tbody>\n",
       "    <tr>\n",
       "      <th>0</th>\n",
       "      <td>1</td>\n",
       "      <td>M</td>\n",
       "      <td>C</td>\n",
       "      <td>Mph@msn.com</td>\n",
       "      <td>38</td>\n",
       "      <td>12</td>\n",
       "      <td>2</td>\n",
       "      <td>2</td>\n",
       "    </tr>\n",
       "    <tr>\n",
       "      <th>1</th>\n",
       "      <td>2</td>\n",
       "      <td>F</td>\n",
       "      <td>B</td>\n",
       "      <td>SophcYN7381qMe8lRqK@aol.com</td>\n",
       "      <td>37</td>\n",
       "      <td>23</td>\n",
       "      <td>2</td>\n",
       "      <td>3</td>\n",
       "    </tr>\n",
       "    <tr>\n",
       "      <th>2</th>\n",
       "      <td>3</td>\n",
       "      <td>F</td>\n",
       "      <td>C</td>\n",
       "      <td>xE@msn.com</td>\n",
       "      <td>32</td>\n",
       "      <td>15</td>\n",
       "      <td>2</td>\n",
       "      <td>2</td>\n",
       "    </tr>\n",
       "    <tr>\n",
       "      <th>3</th>\n",
       "      <td>4</td>\n",
       "      <td>M</td>\n",
       "      <td>C</td>\n",
       "      <td>WduR0o0@comcast.net</td>\n",
       "      <td>31</td>\n",
       "      <td>24</td>\n",
       "      <td>2</td>\n",
       "      <td>3</td>\n",
       "    </tr>\n",
       "    <tr>\n",
       "      <th>4</th>\n",
       "      <td>5</td>\n",
       "      <td>M</td>\n",
       "      <td>C</td>\n",
       "      <td>walHI9cmWJIBKvy0@aol.com</td>\n",
       "      <td>35</td>\n",
       "      <td>13</td>\n",
       "      <td>2</td>\n",
       "      <td>2</td>\n",
       "    </tr>\n",
       "  </tbody>\n",
       "</table>\n",
       "</div>"
      ],
      "text/plain": [
       "   Customer_ID Gender Type                Email_Address  Age  Tenure  \\\n",
       "0            1      M    C                  Mph@msn.com   38      12   \n",
       "1            2      F    B  SophcYN7381qMe8lRqK@aol.com   37      23   \n",
       "2            3      F    C                   xE@msn.com   32      15   \n",
       "3            4      M    C          WduR0o0@comcast.net   31      24   \n",
       "4            5      M    C     walHI9cmWJIBKvy0@aol.com   35      13   \n",
       "\n",
       "   AgeCategory  TenureCategory  \n",
       "0            2               2  \n",
       "1            2               3  \n",
       "2            2               2  \n",
       "3            2               3  \n",
       "4            2               2  "
      ]
     },
     "execution_count": 15,
     "metadata": {},
     "output_type": "execute_result"
    }
   ],
   "source": [
    "userdata.head()"
   ]
  },
  {
   "cell_type": "code",
   "execution_count": 17,
   "id": "78ad1fff-32c7-441c-8443-42fef6a071fb",
   "metadata": {},
   "outputs": [
    {
     "name": "stdout",
     "output_type": "stream",
     "text": [
      "        Customer_ID Gender Type               Email_Address  Age  Tenure  \\\n",
      "0                 1      M    C                 Mph@msn.com   38      12   \n",
      "4                 5      M    C    walHI9cmWJIBKvy0@aol.com   35      13   \n",
      "9                10      M    C     v4oFiwefIEWJguk@msn.com   33      13   \n",
      "12               13      M    C           uqCdy@hotmail.com   33      11   \n",
      "23               24      M    C   wkKLhAWuGUPN1dt@gmail.com   32      12   \n",
      "...             ...    ...  ...                         ...  ...     ...   \n",
      "499972       499973      M    C                 3@yahoo.com   34      10   \n",
      "499975       499976      M    C     21vsnYWpfAY@hotmail.com   36      10   \n",
      "499987       499988      M    C              EgN5@gmail.com   35      14   \n",
      "499992       499993      M    C  E7sjvXN1Iba055aFhJ@aol.com   30      13   \n",
      "499998       499999      M    C          QkI8AH@hotmail.com   33      11   \n",
      "\n",
      "        AgeCategory  TenureCategory  \n",
      "0                 2               2  \n",
      "4                 2               2  \n",
      "9                 2               2  \n",
      "12                2               2  \n",
      "23                2               2  \n",
      "...             ...             ...  \n",
      "499972            2               2  \n",
      "499975            2               2  \n",
      "499987            2               2  \n",
      "499992            2               2  \n",
      "499998            2               2  \n",
      "\n",
      "[64364 rows x 8 columns]\n"
     ]
    }
   ],
   "source": [
    "foundusers = userdata.query('Gender == \"M\" and Type == \"C\" and AgeCategory == 2 and TenureCategory == 2', inplace=False)\n",
    "print(foundusers)"
   ]
  },
  {
   "cell_type": "code",
   "execution_count": 19,
   "id": "e1389dd7-4054-461e-b441-4266b0906e76",
   "metadata": {},
   "outputs": [
    {
     "data": {
      "text/plain": [
       "9"
      ]
     },
     "execution_count": 19,
     "metadata": {},
     "output_type": "execute_result"
    }
   ],
   "source": [
    "s = \"jhebeler@gmail.com\"\n",
    "s.find(\"gmail\")"
   ]
  },
  {
   "cell_type": "code",
   "execution_count": 20,
   "id": "13cecb2a-d204-4f89-a748-1131428b1686",
   "metadata": {},
   "outputs": [
    {
     "data": {
      "text/plain": [
       "-1"
      ]
     },
     "execution_count": 20,
     "metadata": {},
     "output_type": "execute_result"
    }
   ],
   "source": [
    "s.find(\"z\")"
   ]
  },
  {
   "cell_type": "code",
   "execution_count": 22,
   "id": "bcbec9b5-afc7-4b92-93c9-c3ccc4051725",
   "metadata": {},
   "outputs": [
    {
     "data": {
      "text/plain": [
       "['jhebeler', 'gmail.com']"
      ]
     },
     "execution_count": 22,
     "metadata": {},
     "output_type": "execute_result"
    }
   ],
   "source": [
    "s.split(\"@\")"
   ]
  },
  {
   "cell_type": "code",
   "execution_count": 29,
   "id": "b51e5782-b432-4f53-b9d1-c74c1f735ccf",
   "metadata": {},
   "outputs": [],
   "source": [
    "def categoriseHost(row):  \n",
    "    return row[\"Email_Address\"].split(\"@\")[1]"
   ]
  },
  {
   "cell_type": "code",
   "execution_count": 30,
   "id": "63a8a9c6-b03a-41c7-9cb3-268f571bdf06",
   "metadata": {},
   "outputs": [],
   "source": [
    "userdata['Host'] = userdata.apply(lambda row: categoriseHost(row), axis=1)"
   ]
  },
  {
   "cell_type": "code",
   "execution_count": 31,
   "id": "9e99008b-4fc8-4a23-819f-b8b04d3aef43",
   "metadata": {},
   "outputs": [
    {
     "data": {
      "text/html": [
       "<div>\n",
       "<style scoped>\n",
       "    .dataframe tbody tr th:only-of-type {\n",
       "        vertical-align: middle;\n",
       "    }\n",
       "\n",
       "    .dataframe tbody tr th {\n",
       "        vertical-align: top;\n",
       "    }\n",
       "\n",
       "    .dataframe thead th {\n",
       "        text-align: right;\n",
       "    }\n",
       "</style>\n",
       "<table border=\"1\" class=\"dataframe\">\n",
       "  <thead>\n",
       "    <tr style=\"text-align: right;\">\n",
       "      <th></th>\n",
       "      <th>Customer_ID</th>\n",
       "      <th>Gender</th>\n",
       "      <th>Type</th>\n",
       "      <th>Email_Address</th>\n",
       "      <th>Age</th>\n",
       "      <th>Tenure</th>\n",
       "      <th>AgeCategory</th>\n",
       "      <th>TenureCategory</th>\n",
       "      <th>Host</th>\n",
       "    </tr>\n",
       "  </thead>\n",
       "  <tbody>\n",
       "    <tr>\n",
       "      <th>0</th>\n",
       "      <td>1</td>\n",
       "      <td>M</td>\n",
       "      <td>C</td>\n",
       "      <td>Mph@msn.com</td>\n",
       "      <td>38</td>\n",
       "      <td>12</td>\n",
       "      <td>2</td>\n",
       "      <td>2</td>\n",
       "      <td>msn.com</td>\n",
       "    </tr>\n",
       "    <tr>\n",
       "      <th>1</th>\n",
       "      <td>2</td>\n",
       "      <td>F</td>\n",
       "      <td>B</td>\n",
       "      <td>SophcYN7381qMe8lRqK@aol.com</td>\n",
       "      <td>37</td>\n",
       "      <td>23</td>\n",
       "      <td>2</td>\n",
       "      <td>3</td>\n",
       "      <td>aol.com</td>\n",
       "    </tr>\n",
       "    <tr>\n",
       "      <th>2</th>\n",
       "      <td>3</td>\n",
       "      <td>F</td>\n",
       "      <td>C</td>\n",
       "      <td>xE@msn.com</td>\n",
       "      <td>32</td>\n",
       "      <td>15</td>\n",
       "      <td>2</td>\n",
       "      <td>2</td>\n",
       "      <td>msn.com</td>\n",
       "    </tr>\n",
       "    <tr>\n",
       "      <th>3</th>\n",
       "      <td>4</td>\n",
       "      <td>M</td>\n",
       "      <td>C</td>\n",
       "      <td>WduR0o0@comcast.net</td>\n",
       "      <td>31</td>\n",
       "      <td>24</td>\n",
       "      <td>2</td>\n",
       "      <td>3</td>\n",
       "      <td>comcast.net</td>\n",
       "    </tr>\n",
       "    <tr>\n",
       "      <th>4</th>\n",
       "      <td>5</td>\n",
       "      <td>M</td>\n",
       "      <td>C</td>\n",
       "      <td>walHI9cmWJIBKvy0@aol.com</td>\n",
       "      <td>35</td>\n",
       "      <td>13</td>\n",
       "      <td>2</td>\n",
       "      <td>2</td>\n",
       "      <td>aol.com</td>\n",
       "    </tr>\n",
       "  </tbody>\n",
       "</table>\n",
       "</div>"
      ],
      "text/plain": [
       "   Customer_ID Gender Type                Email_Address  Age  Tenure  \\\n",
       "0            1      M    C                  Mph@msn.com   38      12   \n",
       "1            2      F    B  SophcYN7381qMe8lRqK@aol.com   37      23   \n",
       "2            3      F    C                   xE@msn.com   32      15   \n",
       "3            4      M    C          WduR0o0@comcast.net   31      24   \n",
       "4            5      M    C     walHI9cmWJIBKvy0@aol.com   35      13   \n",
       "\n",
       "   AgeCategory  TenureCategory         Host  \n",
       "0            2               2      msn.com  \n",
       "1            2               3      aol.com  \n",
       "2            2               2      msn.com  \n",
       "3            2               3  comcast.net  \n",
       "4            2               2      aol.com  "
      ]
     },
     "execution_count": 31,
     "metadata": {},
     "output_type": "execute_result"
    }
   ],
   "source": [
    "userdata.head()\n"
   ]
  },
  {
   "cell_type": "code",
   "execution_count": 32,
   "id": "da3dd89a-ec65-40ec-8a78-d22483ef7d74",
   "metadata": {},
   "outputs": [
    {
     "data": {
      "text/plain": [
       "array(['msn.com', 'aol.com', 'comcast.net', 'yahoo.com', 'hotmail.com',\n",
       "       'gmail.com'], dtype=object)"
      ]
     },
     "execution_count": 32,
     "metadata": {},
     "output_type": "execute_result"
    }
   ],
   "source": [
    "userdata['Host'].unique()"
   ]
  },
  {
   "cell_type": "code",
   "execution_count": 33,
   "id": "784235a4-8ada-4b30-822f-5c18e2853816",
   "metadata": {},
   "outputs": [
    {
     "name": "stdout",
     "output_type": "stream",
     "text": [
      "        Customer_ID Gender Type               Email_Address  Age  Tenure  \\\n",
      "0                 1      M    C                 Mph@msn.com   38      12   \n",
      "9                10      M    C     v4oFiwefIEWJguk@msn.com   33      13   \n",
      "162             163      M    C   LefyeWM496jIcanhA@msn.com   34      17   \n",
      "173             174      M    C  mF9F3JtwFf2u24kWee@msn.com   36      11   \n",
      "271             272      M    C    0omsUvRjUHZlzEPT@msn.com   34      13   \n",
      "...             ...    ...  ...                         ...  ...     ...   \n",
      "499364       499365      M    C  iT3IZo2C9m3ptBFw1D@msn.com   35      13   \n",
      "499429       499430      M    C  Wrw7aAdV7p6FTkjDVd@msn.com   39      16   \n",
      "499706       499707      M    C                 UFB@msn.com   30      11   \n",
      "499768       499769      M    C     ulmkMGxhtCrph2T@msn.com   33      11   \n",
      "499910       499911      M    C         j1vzlwmlqff@msn.com   38      10   \n",
      "\n",
      "        AgeCategory  TenureCategory     Host  \n",
      "0                 2               2  msn.com  \n",
      "9                 2               2  msn.com  \n",
      "162               2               2  msn.com  \n",
      "173               2               2  msn.com  \n",
      "271               2               2  msn.com  \n",
      "...             ...             ...      ...  \n",
      "499364            2               2  msn.com  \n",
      "499429            2               2  msn.com  \n",
      "499706            2               2  msn.com  \n",
      "499768            2               2  msn.com  \n",
      "499910            2               2  msn.com  \n",
      "\n",
      "[9674 rows x 9 columns]\n"
     ]
    }
   ],
   "source": [
    "foundusers = userdata.query('Gender == \"M\" and Type == \"C\" and AgeCategory == 2 and TenureCategory == 2 and Host == \"msn.com\"', inplace=False)\n",
    "print(foundusers)"
   ]
  },
  {
   "cell_type": "code",
   "execution_count": 49,
   "id": "094f4a02-6608-4154-859c-d4771424cace",
   "metadata": {},
   "outputs": [
    {
     "name": "stdout",
     "output_type": "stream",
     "text": [
      "Emails Sent:  47812  Email Reponses:  7031  Rate:  0.15\n"
     ]
    }
   ],
   "source": [
    "# creating a bool series from isin()\n",
    "customerRespones = responses[\"Customer_ID\"].isin(foundusers[\"Customer_ID\"])\n",
    "customerEmails = sent_emails[\"Customer_ID\"].isin(foundusers[\"Customer_ID\"])\n",
    "responseCounter = 0\n",
    "for i in customerRespones:\n",
    "    if( i == True):\n",
    "        responseCounter += 1\n",
    "sentCounter = 0\n",
    "for i in customerEmails:\n",
    "    if( i == True):\n",
    "        sentCounter += 1\n",
    "\n",
    "print(\"Emails Sent: \",sentCounter, \" Email Reponses: \", responseCounter, \" Rate: \", round(responseCounter/sentCounter, 2))"
   ]
  },
  {
   "cell_type": "code",
   "execution_count": 50,
   "id": "14824f2b-2a51-474b-813f-36d1cbc2bc9d",
   "metadata": {},
   "outputs": [
    {
     "name": "stdout",
     "output_type": "stream",
     "text": [
      "Q-table:\n",
      "[[1.99986291 1.87310497]\n",
      " [2.49980075 2.39306369]]\n"
     ]
    }
   ],
   "source": [
    "import numpy as np\n",
    "\n",
    "class QLearningEmailMarketing:\n",
    "    def __init__(self, actions, states):\n",
    "        self.actions = actions\n",
    "        self.states = states\n",
    "        self.Q_table = np.zeros((len(states), len(actions)))\n",
    "        self.lr = 0.1 # Learning rate\n",
    "        self.gamma = 0.9 # Discount factor\n",
    "        self.epsilon = 0.1 # Epsilon-greedy exploration\n",
    "        \n",
    "    def choose_action(self, state):\n",
    "        if np.random.uniform(0, 1) < self.epsilon:\n",
    "            # Random exploration\n",
    "            action = np.random.choice(self.actions)\n",
    "        else:\n",
    "            # Choose the best action based on Q-value\n",
    "            state_idx = self.states.index(state)\n",
    "            action_idx = np.argmax(self.Q_table[state_idx, :])\n",
    "            action = self.actions[action_idx]\n",
    "        return action\n",
    "    \n",
    "    def learn(self, state, action, reward, next_state):\n",
    "        state_idx = self.states.index(state)\n",
    "        next_state_idx = self.states.index(next_state)\n",
    "        action_idx = self.actions.index(action)\n",
    "        \n",
    "        # Q-learning update rule\n",
    "        self.Q_table[state_idx, action_idx] += self.lr * (reward + self.gamma * np.max(self.Q_table[next_state_idx, :]) - self.Q_table[state_idx, action_idx])\n",
    "        \n",
    "    def get_conversion_rate(self, state, action):\n",
    "        # Simulated conversion rate calculation\n",
    "        # In a real-world scenario, this would be replaced with actual conversion rate data\n",
    "        if state == 'Male':\n",
    "            if action == 'Subject: Elevate Your Learning Experience with Q Learning - Subscribe Now!':\n",
    "                return 0.2\n",
    "            elif action == 'Subject: Master Reinforcement Learning with Q Learning - Enroll Now!':\n",
    "                return 0.1\n",
    "        elif state == 'Female':\n",
    "            if action == 'Subject: Elevate Your Learning Experience with Q Learning - Subscribe Now!':\n",
    "                return 0.25\n",
    "            elif action == 'Subject: Master Reinforcement Learning with Q Learning - Enroll Now!':\n",
    "                return 0.15\n",
    "        \n",
    "# Sample email marketing data\n",
    "demographics = ['Male', 'Female']\n",
    "email_subjects = [\n",
    "    'Subject: Elevate Your Learning Experience with Q Learning - Subscribe Now!',\n",
    "    'Subject: Master Reinforcement Learning with Q Learning - Enroll Now!'\n",
    "]\n",
    "\n",
    "# Initialize Q-learning agent\n",
    "agent = QLearningEmailMarketing(email_subjects, demographics)\n",
    "\n",
    "# Simulate email marketing campaign\n",
    "for _ in range(1000): # Number of episodes\n",
    "    for demographic in demographics:\n",
    "        state = demographic\n",
    "        action = agent.choose_action(state)\n",
    "        conversion_rate = agent.get_conversion_rate(state, action)\n",
    "        # Simulated reward based on conversion rate\n",
    "        reward = conversion_rate\n",
    "        next_state = demographic # For simplicity, next state is the same as current state\n",
    "        agent.learn(state, action, reward, next_state)\n",
    "\n",
    "# Print Q-table\n",
    "print(\"Q-table:\")\n",
    "print(agent.Q_table)\n"
   ]
  },
  {
   "cell_type": "code",
   "execution_count": null,
   "id": "05b01d6a-7a2a-4914-acff-feb960a69db6",
   "metadata": {},
   "outputs": [],
   "source": [
    "import numpy as np\n",
    "\n",
    "class QLearningEmailMarketing:\n",
    "    def __init__(self, actions, states):\n",
    "        self.actions = actions\n",
    "        self.states = states\n",
    "        self.Q_table = np.zeros((len(states), len(actions)))\n",
    "        self.lr = 0.1 # Learning rate\n",
    "        self.gamma = 0.9 # Discount factor\n",
    "        self.epsilon = 0.1 # Epsilon-greedy exploration\n",
    "        \n",
    "    def choose_action(self, state):\n",
    "        if np.random.uniform(0, 1) < self.epsilon:\n",
    "            # Random exploration\n",
    "            action = np.random.choice(self.actions)\n",
    "        else:\n",
    "            # Choose the best action based on Q-value\n",
    "            state_idx = self.states.index(state)\n",
    "            action_idx = np.argmax(self.Q_table[state_idx, :])\n",
    "            action = self.actions[action_idx]\n",
    "        return action\n",
    "    \n",
    "    def learn(self, state, action, reward, next_state):\n",
    "        state_idx = self.states.index(state)\n",
    "        next_state_idx = self.states.index(next_state)\n",
    "        action_idx = self.actions.index(action)\n",
    "        \n",
    "        # Q-learning update rule\n",
    "        self.Q_table[state_idx, action_idx] += self.lr * (reward + self.gamma * np.max(self.Q_table[next_state_idx, :]) - self.Q_table[state_idx, action_idx])\n",
    "        \n",
    "    def get_conversion_rate(self, state, action):\n",
    "        # Simulated conversion rate calculation\n",
    "        # In a real-world scenario, this would be replaced with actual conversion rate data\n",
    "        if (state == 1  :\n",
    "            if action == 'Subject: Elevate Your Learning Experience with Q Learning - Subscribe Now!':\n",
    "                return 0.2\n",
    "            elif action == 'Subject: Master Reinforcement Learning with Q Learning - Enroll Now!':\n",
    "                return 0.1\n",
    "        elif state == 'Female':\n",
    "            if action == 'Subject: Elevate Your Learning Experience with Q Learning - Subscribe Now!':\n",
    "                return 0.25\n",
    "            elif action == 'Subject: Master Reinforcement Learning with Q Learning - Enroll Now!':\n",
    "                return 0.15\n",
    "        \n",
    "# Sample email marketing data\n",
    "demographics = ['Male', 'Female']\n",
    "email_subjects = [\n",
    "    'Subject: Elevate Your Learning Experience with Q Learning - Subscribe Now!',\n",
    "    'Subject: Master Reinforcement Learning with Q Learning - Enroll Now!'\n",
    "]\n",
    "\n",
    "# Initialize Q-learning agent\n",
    "states = list(range(1, 33))\n",
    "actions = list(range(1,5))\n",
    "agent = QLearningEmailMarketing(actions, states)\n",
    "\n",
    "# Simulate email marketing campaign\n",
    "for _ in range(1000): # Number of episodes\n",
    "    for state in states:\n",
    "        action = agent.choose_action(state)\n",
    "        conversion_rate = agent.get_conversion_rate(state, action)\n",
    "        # Simulated reward based on conversion rate\n",
    "        reward = conversion_rate\n",
    "        next_state = demographic # For simplicity, next state is the same as current state\n",
    "        agent.learn(state, action, reward, next_state)\n",
    "\n",
    "# Print Q-table\n",
    "print(\"Q-table:\")\n",
    "print(agent.Q_table)\n"
   ]
  },
  {
   "cell_type": "code",
   "execution_count": 53,
   "id": "8e345e24-318d-420a-9e1a-a8f376cd18d1",
   "metadata": {},
   "outputs": [
    {
     "name": "stdout",
     "output_type": "stream",
     "text": [
      "[1, 2, 3, 4, 5, 6, 7, 8, 9, 10, 11, 12, 13, 14, 15, 16, 17, 18]\n"
     ]
    }
   ],
   "source": [
    "states = list(range(1, 19))\n",
    "print(states)"
   ]
  },
  {
   "cell_type": "code",
   "execution_count": 54,
   "id": "c9cde555-3b80-4fcd-b5bc-cadced49dbed",
   "metadata": {},
   "outputs": [
    {
     "name": "stdout",
     "output_type": "stream",
     "text": [
      "[1, 2, 3, 4]\n"
     ]
    }
   ],
   "source": [
    "actions = list(range(1,5))\n",
    "print(actions)"
   ]
  },
  {
   "cell_type": "code",
   "execution_count": null,
   "id": "af1d8b15-fea5-45d4-b76d-5d7aa31a2819",
   "metadata": {},
   "outputs": [],
   "source": []
  }
 ],
 "metadata": {
  "kernelspec": {
   "display_name": "Python 3 (ipykernel)",
   "language": "python",
   "name": "python3"
  },
  "language_info": {
   "codemirror_mode": {
    "name": "ipython",
    "version": 3
   },
   "file_extension": ".py",
   "mimetype": "text/x-python",
   "name": "python",
   "nbconvert_exporter": "python",
   "pygments_lexer": "ipython3",
   "version": "3.10.6"
  }
 },
 "nbformat": 4,
 "nbformat_minor": 5
}
